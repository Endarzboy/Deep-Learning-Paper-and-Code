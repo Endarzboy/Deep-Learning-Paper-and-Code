{
 "cells": [
  {
   "cell_type": "markdown",
   "metadata": {
    "colab_type": "text",
    "id": "SEHO-jaFj9Zm"
   },
   "source": [
    "> ### EEE4423: Signal Processing Lab\n",
    "\n",
    "# LAB \\#3: CNN: VGG Net and ResNet [CoLab]"
   ]
  },
  {
   "cell_type": "markdown",
   "metadata": {
    "colab_type": "text",
    "id": "HVdm1LA1j9Zo"
   },
   "source": [
    "<div style=\"text-align: right\"> Please upload your file in the form of [ID_Name_Lab3.ipynb]. </div></h4>"
   ]
  },
  {
   "cell_type": "markdown",
   "metadata": {
    "colab_type": "text",
    "id": "8cl2DqlTj9Zp"
   },
   "source": [
    "### *Instructions:*\n",
    "- Write a program implementing a particular algorithm to solve a given problem.   \n",
    "- <span style=\"color:red\">**Report and discuss your results. Analyze the algorithm, theoretically and empirically.**</span> \n",
    "- Each team must write their own answers and codes (<span style=\"color:red\">**if not you will get a F grade**</span>)."
   ]
  },
  {
   "cell_type": "markdown",
   "metadata": {
    "colab_type": "text",
    "id": "KKipoMbMj9Zq"
   },
   "source": [
    "<h2><span style=\"color:blue\">2014142243 Cha, Hyunsoo</span> </h2>"
   ]
  },
  {
   "cell_type": "code",
   "execution_count": 1,
   "metadata": {
    "colab": {
     "base_uri": "https://localhost:8080/",
     "height": 35
    },
    "colab_type": "code",
    "executionInfo": {
     "elapsed": 2025,
     "status": "ok",
     "timestamp": 1549956458995,
     "user": {
      "displayName": "­이중협(대학원/일반대학원 전기전자공학과)",
      "photoUrl": "",
      "userId": "06027175232332113122"
     },
     "user_tz": -540
    },
    "id": "VL1pbTi2j9Zr",
    "outputId": "44f34919-fa8e-4157-bfe5-1d84ace1321c"
   },
   "outputs": [
    {
     "name": "stdout",
     "output_type": "stream",
     "text": [
      "This code is written at 2021-03-23 22:01:08.796723\n"
     ]
    }
   ],
   "source": [
    "import datetime\n",
    "print(\"This code is written at \" + str(datetime.datetime.now()))"
   ]
  },
  {
   "cell_type": "code",
   "execution_count": 2,
   "metadata": {
    "colab": {
     "base_uri": "https://localhost:8080/",
     "height": 503
    },
    "colab_type": "code",
    "executionInfo": {
     "elapsed": 6056,
     "status": "ok",
     "timestamp": 1549956463045,
     "user": {
      "displayName": "­이중협(대학원/일반대학원 전기전자공학과)",
      "photoUrl": "",
      "userId": "06027175232332113122"
     },
     "user_tz": -540
    },
    "id": "5rfPXXDMkcpZ",
    "outputId": "59868d8d-d6ec-466a-bcdf-56a7250b2430"
   },
   "outputs": [
    {
     "name": "stdout",
     "output_type": "stream",
     "text": [
      "Python version\n",
      "sys.version_info(major=3, minor=8, micro=8, releaselevel='final', serial=0)\n",
      "\n",
      "OS information\n",
      "Linux-5.8.0-45-generic-x86_64-with-glibc2.10\n",
      "\n",
      "Is GPU available?\n",
      "True\n",
      "\n",
      "GPU information\n",
      "Tue Mar 23 22:01:09 2021       \n",
      "+-----------------------------------------------------------------------------+\n",
      "| NVIDIA-SMI 460.39       Driver Version: 460.39       CUDA Version: 11.2     |\n",
      "|-------------------------------+----------------------+----------------------+\n",
      "| GPU  Name        Persistence-M| Bus-Id        Disp.A | Volatile Uncorr. ECC |\n",
      "| Fan  Temp  Perf  Pwr:Usage/Cap|         Memory-Usage | GPU-Util  Compute M. |\n",
      "|                               |                      |               MIG M. |\n",
      "|===============================+======================+======================|\n",
      "|   0  GeForce RTX 3090    Off  | 00000000:01:00.0  On |                  N/A |\n",
      "| 58%   59C    P8    45W / 350W |  12558MiB / 24265MiB |     15%      Default |\n",
      "|                               |                      |                  N/A |\n",
      "+-------------------------------+----------------------+----------------------+\n",
      "                                                                               \n",
      "+-----------------------------------------------------------------------------+\n",
      "| Processes:                                                                  |\n",
      "|  GPU   GI   CI        PID   Type   Process name                  GPU Memory |\n",
      "|        ID   ID                                                   Usage      |\n",
      "|=============================================================================|\n",
      "|    0   N/A  N/A      1058      G   /usr/lib/xorg/Xorg                150MiB |\n",
      "|    0   N/A  N/A      2052      G   /usr/lib/xorg/Xorg                948MiB |\n",
      "|    0   N/A  N/A      2177      G   /usr/bin/gnome-shell              315MiB |\n",
      "|    0   N/A  N/A      2534      G   ...ba42f347a1217cd1.AppImage        4MiB |\n",
      "|    0   N/A  N/A      3029      G   ...AAAAAAAAA= --shared-files      651MiB |\n",
      "|    0   N/A  N/A      5402      G   gnome-control-center                4MiB |\n",
      "|    0   N/A  N/A     16430      C   ...nda3/envs/py38/bin/python    10463MiB |\n",
      "+-----------------------------------------------------------------------------+\n"
     ]
    }
   ],
   "source": [
    "#####################################################################\n",
    "# In order to use GPU acceleration, you must change runtime type.\n",
    "# See the menu bar above. \n",
    "# \"Runtime\" -> \"Change runtime type\"  -> \"Hardware accelerator\"\n",
    "# Change 'None' to 'GPU', then run the code below.\n",
    "#####################################################################\n",
    "\n",
    "import sys\n",
    "import platform\n",
    "import torch\n",
    "import time\n",
    "\n",
    "print(\"Python version\")\n",
    "print(sys.version_info)\n",
    "\n",
    "print(\"\\nOS information\")\n",
    "print(platform.platform())\n",
    "\n",
    "print(\"\\nIs GPU available?\")\n",
    "print(torch.cuda.is_available())\n",
    "\n",
    "# print(\"\\nCPU information\")\n",
    "# !cat /proc/cpuinfo\n",
    "\n",
    "# print(\"\\nMemory information\")\n",
    "# !cat /proc/meminfo\n",
    "\n",
    "print(\"\\nGPU information\")\n",
    "!nvidia-smi"
   ]
  },
  {
   "cell_type": "markdown",
   "metadata": {
    "colab_type": "text",
    "id": "VpPLjwr8j9Zw"
   },
   "source": [
    "## 1. VGGNet with PyTorch"
   ]
  },
  {
   "cell_type": "markdown",
   "metadata": {
    "colab_type": "text",
    "id": "IWeEYLiSj9Zx"
   },
   "source": [
    "### Implementing VGGNet\n",
    "\n",
    "> 1. **Dataset**\n",
    ">> - Images from the first three categories in CIFAR-10(32x32). (Due to the computational constraints.)  <br>\n",
    "     Three categories : plane, car, bird  /  The number of training images : 15,000   /  The number of test images : 3,000\n",
    ">> - Augmented with flipping and random cropping(Data 늘리기).\n",
    ">\n",
    "> 2. **Network architecture**\n",
    ">> - Type-D configuration in the paper (+ 3-way classifier after convolutional layers).\n",
    ">> - ReLU activation.\n",
    ">> - No dropout for simplicity.\n",
    ">> - We will apply **batch-normalization** after every convolution which is not used in the paper (otherwise, hard to optimize).\n",
    ">>\n",
    ">> <table><tr>\n",
    ">> <td> <img src=\"https://docs.google.com/uc?export=download&id=1OiTmrplD9gOrEJizLChyLp31R0QtoeHv\" alt=\"no_image\" style=\"width: 550px;\"/> </td>\n",
    ">> <td> <img src=\"https://docs.google.com/uc?export=download&id=1bBvAOdJeskMMyOrZtBCCnkEEgq9PgjX9\" alt=\"no_image\" style=\"width: 250px;\"/> </td>\n",
    ">> </tr></table>\n",
    ">>\n",
    ">> <font size=\"0.5\"> Figure from <br>\n",
    ">> [1] https://www.quora.com/What-is-the-VGG-neural-network </font>\n",
    ">\n",
    "> 3. **Loss function**\n",
    ">> - Cross-entropy loss between outputs & ground-truths. <br>\n",
    "     Note that `nn.CrossEntroyLoss` takes logits before softmax as network outputs and scalar index (not one-hot vector) as ground-truths.<br>\n",
    "     See https://pytorch.org/docs/stable/nn.html#crossentropyloss for details.\n",
    ">\n",
    "> 4. **Training**\n",
    ">> - Default weight initialization for simplicity.\n",
    ">> - SGD optimizer with `learning rate = 1e-2`, `momentum = 0.9`, and `weight_decay = 5e-4`.\n",
    ">> - 20 epochs without learning rate scheduling.\n",
    ">\n",
    "> 5. **Evaluation metric**\n",
    ">> - Classification accuracy (i.e., the percentage of correct predictions).\n",
    ">\n",
    "> "
   ]
  },
  {
   "cell_type": "code",
   "execution_count": 3,
   "metadata": {
    "colab": {},
    "colab_type": "code",
    "id": "LGgir5u7j9Zy"
   },
   "outputs": [],
   "source": [
    "import torch\n",
    "import torch.nn as nn\n",
    "import torch.optim as optim\n",
    "import torch.nn.functional as F\n",
    "import torchvision.transforms as transforms\n",
    "import torchvision.datasets as dsets \n",
    "import torchvision\n",
    "import time\n",
    "import os\n",
    "\n",
    "# os.environ[\"CUDA_VISIBLE_DEVICES\"]=\"0\""
   ]
  },
  {
   "cell_type": "code",
   "execution_count": 4,
   "metadata": {
    "colab": {
     "base_uri": "https://localhost:8080/",
     "height": 53
    },
    "colab_type": "code",
    "executionInfo": {
     "elapsed": 46373,
     "status": "ok",
     "timestamp": 1549956503374,
     "user": {
      "displayName": "­이중협(대학원/일반대학원 전기전자공학과)",
      "photoUrl": "",
      "userId": "06027175232332113122"
     },
     "user_tz": -540
    },
    "id": "OwvpXFuaj9Z0",
    "outputId": "0943c291-534d-4930-e426-a650e204cdba"
   },
   "outputs": [
    {
     "name": "stdout",
     "output_type": "stream",
     "text": [
      "STEP 1: LOADING DATASET\n",
      "Files already downloaded and verified\n"
     ]
    }
   ],
   "source": [
    "print('STEP 1: LOADING DATASET')\n",
    "\n",
    "transform_train = transforms.Compose([\n",
    "    transforms.RandomCrop(32, padding=4),#Data Argument\n",
    "    transforms.RandomHorizontalFlip(),\n",
    "    transforms.ToTensor(), #Torch의 Tensor 자료형으로 바꿔서 연산을 간편하게 한다.\n",
    "    transforms.Normalize((0.4914, 0.4822, 0.4465), (0.2023, 0.1994, 0.2010)),\n",
    "])\n",
    "\n",
    "transform_test = transforms.Compose([\n",
    "    transforms.ToTensor(),\n",
    "    transforms.Normalize((0.4914, 0.4822, 0.4465), (0.2023, 0.1994, 0.2010)),\n",
    "])\n",
    "\n",
    "train_dataset = dsets.CIFAR10(root='./data/CIFAR10/', \n",
    "                            train=True, \n",
    "                            transform=transform_train,\n",
    "                            download=True)\n",
    "\n",
    "test_dataset = dsets.CIFAR10(root='./data/CIFAR10/', \n",
    "                           train=False, \n",
    "                           transform=transform_test)"
   ]
  },
  {
   "cell_type": "code",
   "execution_count": 5,
   "metadata": {
    "colab": {},
    "colab_type": "code",
    "id": "DrK0ZHmLj9Z4"
   },
   "outputs": [],
   "source": [
    "# reducing the dataset\n",
    "reduced_train_dataset = []\n",
    "for images, labels in train_dataset:\n",
    "    if labels < 3:\n",
    "        reduced_train_dataset.append((images, labels))\n",
    "        \n",
    "reduced_test_dataset = []\n",
    "for images, labels in test_dataset:\n",
    "    if labels < 3:\n",
    "        reduced_test_dataset.append((images, labels))"
   ]
  },
  {
   "cell_type": "code",
   "execution_count": 6,
   "metadata": {
    "colab": {
     "base_uri": "https://localhost:8080/",
     "height": 53
    },
    "colab_type": "code",
    "executionInfo": {
     "elapsed": 63102,
     "status": "ok",
     "timestamp": 1549956520111,
     "user": {
      "displayName": "­이중협(대학원/일반대학원 전기전자공학과)",
      "photoUrl": "",
      "userId": "06027175232332113122"
     },
     "user_tz": -540
    },
    "id": "LWnYJ2cwj9Z6",
    "outputId": "eadaf55c-432b-4956-d36e-2e1064f10a62"
   },
   "outputs": [
    {
     "name": "stdout",
     "output_type": "stream",
     "text": [
      "The number of training images :  15000\n",
      "The number of test images :  3000\n"
     ]
    }
   ],
   "source": [
    "print(\"The number of training images : \", len(reduced_train_dataset))\n",
    "print(\"The number of test images : \", len(reduced_test_dataset))"
   ]
  },
  {
   "cell_type": "code",
   "execution_count": 7,
   "metadata": {
    "colab": {
     "base_uri": "https://localhost:8080/",
     "height": 35
    },
    "colab_type": "code",
    "executionInfo": {
     "elapsed": 63097,
     "status": "ok",
     "timestamp": 1549956520112,
     "user": {
      "displayName": "­이중협(대학원/일반대학원 전기전자공학과)",
      "photoUrl": "",
      "userId": "06027175232332113122"
     },
     "user_tz": -540
    },
    "id": "WFq0isyCj9Z-",
    "outputId": "0a486f6b-d1b2-4475-c20b-83fe0ac90fa0"
   },
   "outputs": [
    {
     "name": "stdout",
     "output_type": "stream",
     "text": [
      "STEP 2: MAKING DATASET ITERABLE\n"
     ]
    }
   ],
   "source": [
    "print('STEP 2: MAKING DATASET ITERABLE')\n",
    "\n",
    "train_loader = torch.utils.data.DataLoader(dataset=reduced_train_dataset, \n",
    "                                           batch_size=128, \n",
    "                                           shuffle=True) #Shuffle을 해야 성능이 올라간다\n",
    "\n",
    "test_loader = torch.utils.data.DataLoader(dataset=reduced_test_dataset, \n",
    "                                          batch_size=100, \n",
    "                                          shuffle=False)\n",
    "\n",
    "class_names = ('plane', 'car', 'bird', 'cat', 'deer', 'dog', 'frog', 'horse', 'ship', 'truck')"
   ]
  },
  {
   "cell_type": "markdown",
   "metadata": {
    "colab_type": "text",
    "id": "Wy7GW1lkj9aB"
   },
   "source": [
    "### Visualize a few images"
   ]
  },
  {
   "cell_type": "code",
   "execution_count": 8,
   "metadata": {
    "colab": {},
    "colab_type": "code",
    "id": "tJGv35Alj9aC"
   },
   "outputs": [],
   "source": [
    "import matplotlib.pyplot as plt\n",
    "%matplotlib inline  \n",
    "import numpy as np"
   ]
  },
  {
   "cell_type": "code",
   "execution_count": 9,
   "metadata": {
    "colab": {},
    "colab_type": "code",
    "id": "3PYou4Cuj9aE"
   },
   "outputs": [],
   "source": [
    "def imshow(inp, title=None):\n",
    "    \"\"\"Imshow for Tensor.\"\"\"\n",
    "    inp = inp.numpy().transpose((1, 2, 0))\n",
    "    mean = np.array([0.4914, 0.4822, 0.4465])\n",
    "    std = np.array([0.2023, 0.1994, 0.2010])\n",
    "    inp = std * inp + mean\n",
    "    inp = np.clip(inp, 0, 1)\n",
    "    plt.imshow(inp)\n",
    "    if title is not None:\n",
    "        plt.title(title)\n",
    "    plt.pause(0.001)  # pause a bit so that plots are updated"
   ]
  },
  {
   "cell_type": "code",
   "execution_count": 10,
   "metadata": {
    "colab": {
     "base_uri": "https://localhost:8080/",
     "height": 150
    },
    "colab_type": "code",
    "executionInfo": {
     "elapsed": 63086,
     "status": "ok",
     "timestamp": 1549956520118,
     "user": {
      "displayName": "­이중협(대학원/일반대학원 전기전자공학과)",
      "photoUrl": "",
      "userId": "06027175232332113122"
     },
     "user_tz": -540
    },
    "id": "jX59AE2pj9aH",
    "outputId": "795d995f-84c7-4cde-9524-95a3e78ccc6f"
   },
   "outputs": [
    {
     "data": {
      "image/png": "[encoded data removed]",
      "text/plain": [
       "<Figure size 432x288 with 1 Axes>"
      ]
     },
     "metadata": {
      "needs_background": "light"
     },
     "output_type": "display_data"
    }
   ],
   "source": [
    "train_loader_sample = torch.utils.data.DataLoader(dataset=reduced_train_dataset, \n",
    "                                           batch_size=4, \n",
    "                                           shuffle=True)\n",
    "\n",
    "# Get a batch of training data\n",
    "inputs, classes = next(iter(train_loader_sample))\n",
    "\n",
    "# Make a grid from batch\n",
    "out = torchvision.utils.make_grid(inputs)\n",
    "\n",
    "imshow(out, title=[class_names[x] for x in classes])"
   ]
  },
  {
   "cell_type": "markdown",
   "metadata": {
    "colab_type": "text",
    "id": "hzbc_fTrj9aM"
   },
   "source": [
    "### 1.1 Write code (VGG 16) [3 points]"
   ]
  },
  {
   "cell_type": "code",
   "execution_count": 11,
   "metadata": {
    "colab": {
     "base_uri": "https://localhost:8080/",
     "height": 35
    },
    "colab_type": "code",
    "executionInfo": {
     "elapsed": 63079,
     "status": "ok",
     "timestamp": 1549956520118,
     "user": {
      "displayName": "­이중협(대학원/일반대학원 전기전자공학과)",
      "photoUrl": "",
      "userId": "06027175232332113122"
     },
     "user_tz": -540
    },
    "id": "gjeNHb89j9aN",
    "outputId": "06f21fc1-d7d7-427a-d45d-f3118f915914"
   },
   "outputs": [
    {
     "name": "stdout",
     "output_type": "stream",
     "text": [
      "STEP 3: CREATE MODEL CLASS (VGG16)\n"
     ]
    }
   ],
   "source": [
    "print('STEP 3: CREATE MODEL CLASS (VGG16)')\n",
    "\n",
    "class VGG(nn.Module): # The beginning of the VGG16 network class.\n",
    "    def __init__(self):\n",
    "        super(VGG, self).__init__()\n",
    "\n",
    "        # Convolution 1 (3x3, 64). This convolutional network consist of two conv layers.\n",
    "        self.conv1_x = nn.Conv2d(in_channels=3, out_channels=64, kernel_size=3, stride=1, padding=1)\n",
    "        self.bn1_x = nn.BatchNorm2d(64) # BatchNorm should be fronted of ReLU function\n",
    "        self.relu1_x = nn.ReLU()\n",
    "        self.conv1_1_x = nn.Conv2d(in_channels=64, out_channels=64, kernel_size=3, stride=1, padding=1)\n",
    "        self.bn1_1_x = nn.BatchNorm2d(64)\n",
    "        self.relu1_1_x = nn.ReLU()\n",
    "        # Max pool 1, stride value should be 2 because of the reduction of dimension.\n",
    "        self.maxpool1 = nn.MaxPool2d(kernel_size=2, stride=2)\n",
    "        # stride value should be 1 because of matching of the dimension\n",
    "        # Convolution 2 (3x3, 128) times 2\n",
    "        self.conv2_x = nn.Conv2d(in_channels=64, out_channels=128, kernel_size=3, stride=1, padding=1)\n",
    "        self.bn2_x = nn.BatchNorm2d(128)\n",
    "        self.relu2_x = nn.ReLU()\n",
    "        self.conv2_1_x = nn.Conv2d(in_channels=128, out_channels=128, kernel_size=3, stride=1, padding=1)\n",
    "        self.bn2_1_x = nn.BatchNorm2d(128)\n",
    "        self.relu2_1_x = nn.ReLU()\n",
    "        # Max pool 2\n",
    "        self.maxpool2 = nn.MaxPool2d(kernel_size=2, stride=2)\n",
    "        \n",
    "        # Convolution 3 (3x3, 256) times 3\n",
    "        self.conv3_x = nn.Conv2d(in_channels=128, out_channels=256, kernel_size=3, stride=1, padding=1)\n",
    "        self.bn3_x = nn.BatchNorm2d(256)\n",
    "        self.relu3_x = nn.ReLU()\n",
    "        self.conv3_1_x = nn.Conv2d(in_channels=256, out_channels=256, kernel_size=3, stride=1, padding=1)\n",
    "        self.bn3_1_x = nn.BatchNorm2d(256)\n",
    "        self.relu3_1_x = nn.ReLU()\n",
    "        self.conv3_2_x = nn.Conv2d(in_channels=256, out_channels=256, kernel_size=3, stride=1, padding=1)\n",
    "        self.bn3_2_x = nn.BatchNorm2d(256)\n",
    "        self.relu3_2_x = nn.ReLU()\n",
    "        # Max pool 3\n",
    "        self.maxpool3 = nn.MaxPool2d(kernel_size=2, stride=2)\n",
    "        \n",
    "        # Convolution 4 (3x3, 512) times 3\n",
    "        self.conv4_x = nn.Conv2d(in_channels=256, out_channels=512, kernel_size=3, stride=1, padding=1)\n",
    "        self.bn4_x = nn.BatchNorm2d(512)\n",
    "        self.relu4_x = nn.ReLU()\n",
    "        self.conv4_1_x = nn.Conv2d(in_channels=512, out_channels=512, kernel_size=3, stride=1, padding=1)\n",
    "        self.bn4_1_x = nn.BatchNorm2d(512)\n",
    "        self.relu4_1_x = nn.ReLU()\n",
    "        self.conv4_2_x = nn.Conv2d(in_channels=512, out_channels=512, kernel_size=3, stride=1, padding=1)\n",
    "        self.bn4_2_x = nn.BatchNorm2d(512)\n",
    "        self.relu4_2_x = nn.ReLU()\n",
    "        # Max pool 4\n",
    "        self.maxpool4 = nn.MaxPool2d(kernel_size=2, stride=2)\n",
    "        \n",
    "        # Convolution 5 (3x3, 512) times 3\n",
    "        self.conv5_x = nn.Conv2d(in_channels=512, out_channels=512, kernel_size=3, stride=1, padding=1)\n",
    "        self.bn5_x = nn.BatchNorm2d(512)\n",
    "        self.relu5_x = nn.ReLU()\n",
    "        self.conv5_1_x = nn.Conv2d(in_channels=512, out_channels=512, kernel_size=3, stride=1, padding=1)\n",
    "        self.bn5_1_x = nn.BatchNorm2d(512)\n",
    "        self.relu5_1_x = nn.ReLU()\n",
    "        self.conv5_2_x = nn.Conv2d(in_channels=512, out_channels=512, kernel_size=3, stride=1, padding=1)\n",
    "        self.bn5_2_x = nn.BatchNorm2d(512)\n",
    "        self.relu5_2_x = nn.ReLU()\n",
    "        # Max pool 5\n",
    "        self.maxpool5 = nn.MaxPool2d(kernel_size=2, stride=2)\n",
    "        \n",
    "        # Fully connected 1. Input features could be 512 after the calculation of layers. \n",
    "        # Output features could be 10 because of the fully-connected layers.\n",
    "        self.fc1 = nn.Linear(in_features=512, out_features=10) \n",
    "\n",
    "    def forward(self, x):\n",
    "        # Same structure as upper init function.\n",
    "        # Convolution 1\n",
    "        out = self.conv1_x(x)\n",
    "        out = self.bn1_x(out)\n",
    "        out = self.relu1_x(out)\n",
    "        out = self.conv1_1_x(out) \n",
    "        out = self.bn1_1_x(out)\n",
    "        out = self.relu1_1_x(out)\n",
    "        # Max pool 1\n",
    "        out = self.maxpool1(out)\n",
    "        \n",
    "        # Convolution 2\n",
    "        out = self.conv2_x(out)\n",
    "        out = self.bn2_x(out)\n",
    "        out = self.relu2_x(out)\n",
    "        out = self.conv2_1_x(out) \n",
    "        out = self.bn2_1_x(out)\n",
    "        out = self.relu2_1_x(out)\n",
    "        # Max pool 2\n",
    "        out = self.maxpool2(out)\n",
    "        \n",
    "        # Convolution 3\n",
    "        out = self.conv3_x(out)\n",
    "        out = self.bn3_x(out)\n",
    "        out = self.relu3_x(out)\n",
    "        out = self.conv3_1_x(out) \n",
    "        out = self.bn3_1_x(out)\n",
    "        out = self.relu3_1_x(out)\n",
    "        out = self.conv3_2_x(out) \n",
    "        out = self.bn3_2_x(out)\n",
    "        out = self.relu3_2_x(out)\n",
    "        # Max pool 3\n",
    "        out = self.maxpool3(out)\n",
    "        \n",
    "        # Convolution 4\n",
    "        out = self.conv4_x(out)\n",
    "        out = self.bn4_x(out)\n",
    "        out = self.relu4_x(out)\n",
    "        out = self.conv4_1_x(out) \n",
    "        out = self.bn4_1_x(out)\n",
    "        out = self.relu4_1_x(out)\n",
    "        out = self.conv4_2_x(out) \n",
    "        out = self.bn4_2_x(out)\n",
    "        out = self.relu4_2_x(out)\n",
    "        # Max pool 4\n",
    "        out = self.maxpool4(out)\n",
    "        \n",
    "        # Convolution 5\n",
    "        out = self.conv5_x(out)\n",
    "        out = self.bn5_x(out)\n",
    "        out = self.relu5_x(out)\n",
    "        out = self.conv5_1_x(out) \n",
    "        out = self.bn5_1_x(out)\n",
    "        out = self.relu5_1_x(out)\n",
    "        out = self.conv5_2_x(out) \n",
    "        out = self.bn5_2_x(out)\n",
    "        out = self.relu5_2_x(out)\n",
    "        # Max pool 5\n",
    "        out = self.maxpool5(out)\n",
    "        \n",
    "        # Tensor view prevent extra data copying. This makes fast with memory efficient.\n",
    "        # Change size (100, 512, 3, 3) to (100, 512*4*3)\n",
    "        out = out.view(out.size(0), -1) # out.size(0) == 100\n",
    "\n",
    "        # Linear function (readout)\n",
    "        out = self.fc1(out)\n",
    "        return out"
   ]
  },
  {
   "cell_type": "code",
   "execution_count": 12,
   "metadata": {
    "colab": {
     "base_uri": "https://localhost:8080/",
     "height": 935
    },
    "colab_type": "code",
    "executionInfo": {
     "elapsed": 68844,
     "status": "ok",
     "timestamp": 1549956525890,
     "user": {
      "displayName": "­이중협(대학원/일반대학원 전기전자공학과)",
      "photoUrl": "",
      "userId": "06027175232332113122"
     },
     "user_tz": -540
    },
    "id": "iqoPZuR3j9aQ",
    "outputId": "6ac6e65f-85f6-4dc2-cd48-a4749bfa9810"
   },
   "outputs": [
    {
     "name": "stdout",
     "output_type": "stream",
     "text": [
      "STEP 4: INSTANTIATE MODEL CLASS\n",
      "The number of parameters :  14728266\n"
     ]
    },
    {
     "data": {
      "text/plain": [
       "tensor([[[-1.0140, -0.5293, -0.5100,  ...,  0.1879,  0.1879,  1.5061],\n",
       "         [-1.0915, -0.8007, -1.1109,  ..., -0.7813, -1.0527, -0.1029],\n",
       "         [-1.0915, -0.6844, -1.2272,  ..., -0.9946, -1.4017, -1.2272],\n",
       "         ...,\n",
       "         [-0.0447,  0.1297,  0.0716,  ..., -0.3355, -1.2272, -1.9057],\n",
       "         [-0.1998, -0.0447,  0.0716,  ..., -0.1998, -1.1497, -1.9057],\n",
       "         [-0.1804, -0.0835,  0.0716,  ..., -0.1804, -1.1109, -1.9057]],\n",
       "\n",
       "        [[-0.8842, -0.3926, -0.3336,  ...,  0.5318,  0.5121,  1.8101],\n",
       "         [-0.9826, -0.6679, -0.9432,  ..., -0.5499, -0.8056,  0.1974],\n",
       "         [-0.9826, -0.5499, -1.0219,  ..., -0.8252, -1.1989, -0.9629],\n",
       "         ...,\n",
       "         [ 0.0991,  0.1778,  0.0991,  ..., -0.3139, -1.2382, -1.8873],\n",
       "         [-0.0386,  0.0204,  0.0598,  ..., -0.1369, -1.1399, -1.8873],\n",
       "         [-0.0582, -0.0189,  0.0991,  ..., -0.1566, -1.1399, -1.9069]],\n",
       "\n",
       "        [[-0.7581, -0.0167,  0.0028,  ...,  0.7442,  0.7832,  2.1294],\n",
       "         [-0.8557, -0.3289, -0.6411,  ..., -0.4850, -0.6606,  0.4125],\n",
       "         [-0.8557, -0.2704, -0.7776,  ..., -0.8557, -1.1678, -0.8752],\n",
       "         ...,\n",
       "         [-0.3484, -0.2313, -0.2704,  ..., -0.5045, -1.1483, -1.6751],\n",
       "         [-0.4460, -0.3679, -0.2899,  ..., -0.3874, -1.0703, -1.6946],\n",
       "         [-0.4655, -0.3874, -0.2509,  ..., -0.3874, -1.0898, -1.7141]]],\n",
       "       device='cuda:0')"
      ]
     },
     "execution_count": 12,
     "metadata": {},
     "output_type": "execute_result"
    }
   ],
   "source": [
    "print('STEP 4: INSTANTIATE MODEL CLASS')\n",
    "\n",
    "model = VGG()\n",
    "num_total_params = sum(p.numel() for p in model.parameters())\n",
    "print(\"The number of parameters : \", num_total_params)\n",
    "#######################\n",
    "#  USE GPU FOR MODEL  #\n",
    "#######################\n",
    "device = torch.device(\"cuda:0\" if torch.cuda.is_available() else \"cpu\")\n",
    "model.to(device)\n",
    "images.to(device)"
   ]
  },
  {
   "cell_type": "code",
   "execution_count": 13,
   "metadata": {
    "colab": {
     "base_uri": "https://localhost:8080/",
     "height": 53
    },
    "colab_type": "code",
    "executionInfo": {
     "elapsed": 68834,
     "status": "ok",
     "timestamp": 1549956525891,
     "user": {
      "displayName": "­이중협(대학원/일반대학원 전기전자공학과)",
      "photoUrl": "",
      "userId": "06027175232332113122"
     },
     "user_tz": -540
    },
    "id": "mFeamtXXj9aT",
    "outputId": "0cbbaa6a-65ff-4d79-d1e4-2b2580d04039"
   },
   "outputs": [
    {
     "name": "stdout",
     "output_type": "stream",
     "text": [
      "STEP 5: INSTANTIATE LOSS CLASS\n",
      "STEP 6: INSTANTIATE OPTIMIZER CLASS\n"
     ]
    }
   ],
   "source": [
    "print('STEP 5: INSTANTIATE LOSS CLASS')\n",
    "\n",
    "criterion = nn.CrossEntropyLoss()\n",
    "\n",
    "print('STEP 6: INSTANTIATE OPTIMIZER CLASS')\n",
    "\n",
    "learning_rate = 1e-2\n",
    "momentum = 0.9\n",
    "weight_decay = 5e-4\n",
    "\n",
    "optimizer = torch.optim.SGD(model.parameters(), lr=learning_rate, momentum = momentum, weight_decay = weight_decay)"
   ]
  },
  {
   "cell_type": "markdown",
   "metadata": {
    "colab_type": "text",
    "id": "PaWErvoRj9aY"
   },
   "source": [
    "### 1.2 Train the VGG 16 model and print test accuracy for every epochs [2 points]"
   ]
  },
  {
   "cell_type": "code",
   "execution_count": 14,
   "metadata": {
    "colab": {
     "base_uri": "https://localhost:8080/",
     "height": 395
    },
    "colab_type": "code",
    "executionInfo": {
     "elapsed": 1260714,
     "status": "ok",
     "timestamp": 1549957717778,
     "user": {
      "displayName": "­이중협(대학원/일반대학원 전기전자공학과)",
      "photoUrl": "",
      "userId": "06027175232332113122"
     },
     "user_tz": -540
    },
    "id": "bbi85f2Pj9aY",
    "outputId": "8483debb-2beb-4674-da28-0833c55d0a32",
    "scrolled": true
   },
   "outputs": [
    {
     "name": "stdout",
     "output_type": "stream",
     "text": [
      "STEP 7: TRAIN THE MODEL\n",
      "Epoch: 0. Loss: 0.5250886082649231. Accuracy: 82.23333333333333. Elapsed Time: 22.34292984008789 sec\n",
      "Epoch: 1. Loss: 0.5068008303642273. Accuracy: 85.33333333333333. Elapsed Time: 21.986222743988037 sec\n",
      "Epoch: 2. Loss: 0.4354035556316376. Accuracy: 86.4. Elapsed Time: 22.13666009902954 sec\n",
      "Epoch: 3. Loss: 0.10350047796964645. Accuracy: 88.7. Elapsed Time: 22.25410509109497 sec\n",
      "Epoch: 4. Loss: 0.2555007040500641. Accuracy: 89.46666666666667. Elapsed Time: 22.41740918159485 sec\n",
      "Epoch: 5. Loss: 0.11140909790992737. Accuracy: 89.53333333333333. Elapsed Time: 22.52353525161743 sec\n",
      "Epoch: 6. Loss: 0.07933221012353897. Accuracy: 87.76666666666667. Elapsed Time: 22.574379920959473 sec\n",
      "Epoch: 7. Loss: 0.09420273452997208. Accuracy: 90.5. Elapsed Time: 22.380926370620728 sec\n",
      "Epoch: 8. Loss: 0.14247746765613556. Accuracy: 89.4. Elapsed Time: 22.962148666381836 sec\n",
      "Epoch: 9. Loss: 0.10326573997735977. Accuracy: 90.06666666666666. Elapsed Time: 22.649141788482666 sec\n",
      "Epoch: 10. Loss: 0.00609336793422699. Accuracy: 90.43333333333334. Elapsed Time: 23.655444860458374 sec\n",
      "Epoch: 11. Loss: 0.03882785141468048. Accuracy: 89.56666666666666. Elapsed Time: 23.514672994613647 sec\n",
      "Epoch: 12. Loss: 0.2274010330438614. Accuracy: 91.73333333333333. Elapsed Time: 23.047786951065063 sec\n",
      "Epoch: 13. Loss: 0.021526971831917763. Accuracy: 92.0. Elapsed Time: 22.030628204345703 sec\n",
      "Epoch: 14. Loss: 0.07907017320394516. Accuracy: 91.56666666666666. Elapsed Time: 22.255348682403564 sec\n",
      "Epoch: 15. Loss: 0.036681849509477615. Accuracy: 91.03333333333333. Elapsed Time: 22.163799285888672 sec\n",
      "Epoch: 16. Loss: 0.25027599930763245. Accuracy: 92.0. Elapsed Time: 22.4804904460907 sec\n",
      "Epoch: 17. Loss: 0.12964250147342682. Accuracy: 91.8. Elapsed Time: 22.403062105178833 sec\n",
      "Epoch: 18. Loss: 0.00021808664314448833. Accuracy: 91.6. Elapsed Time: 22.132991313934326 sec\n",
      "Epoch: 19. Loss: 0.0006319903186522424. Accuracy: 92.8. Elapsed Time: 22.442658185958862 sec\n"
     ]
    }
   ],
   "source": [
    "print('STEP 7: TRAIN THE MODEL')\n",
    "num_epochs = 20 # 20 epoches\n",
    "iter = 0\n",
    "currection = 0\n",
    "for epoch in range(num_epochs):\n",
    "    start = time.time() # To measure the elapsed time.\n",
    "    # Iteration in train set.\n",
    "    for i, (images, labels) in enumerate(train_loader):\n",
    "        #######################\n",
    "        #  USE GPU FOR MODEL  #\n",
    "        #######################\n",
    "        images = images.to(device) # To give data CUDA\n",
    "        labels = labels.to(device)\n",
    "        # Set gradients w.r.t. parameters\n",
    "        optimizer.zero_grad()\n",
    "        # To give the input (images) to VGG16 network. Calculation.\n",
    "        outputs = model(images)\n",
    "        # (Step 5) Loss function is cross entropy function.\n",
    "        loss = criterion(outputs, labels)\n",
    "        # Get gradients with parameters\n",
    "        loss.backward()\n",
    "        # Updating parameters\n",
    "        optimizer.step()  \n",
    "        correct = 0\n",
    "        total = 0\n",
    "        # Iteration in test dataset\n",
    "        for images, labels in test_loader:\n",
    "            # Same as upper code.\n",
    "            images = images.to(device)\n",
    "            labels = labels.to(device)\n",
    "            outputs = model(images)\n",
    "            # Get predictions from the maximum value\n",
    "            _, predicted = torch.max(outputs.data, 1)\n",
    "            # Add all of the numbers of labels.\n",
    "            total += labels.size(0)\n",
    "            #######################\n",
    "            #  USE GPU FOR MODEL  #\n",
    "            #######################\n",
    "            # Calculate the prediction by using CPU not CUDA\n",
    "            if torch.cuda.is_available():\n",
    "                correct += (predicted.cpu() == labels.cpu()).sum()\n",
    "            else:\n",
    "                correct += (predicted == labels).sum()    \n",
    "    accuracy = 100 * correct.item() / total\n",
    "    end = time.time() # Finishing the elapsed time.\n",
    "    print('Epoch: {}. Loss: {}. Accuracy: {}. Elapsed Time: {} sec'.format(epoch, loss.item(), accuracy, end-start))"
   ]
  },
  {
   "cell_type": "markdown",
   "metadata": {
    "colab_type": "text",
    "id": "Tb-Zo5yOj9ac"
   },
   "source": [
    "## 2. ResNet with PyTorch"
   ]
  },
  {
   "cell_type": "markdown",
   "metadata": {
    "colab_type": "text",
    "id": "MQeESvzij9ad"
   },
   "source": [
    "### Implementing ResNet\n",
    "\n",
    "> 1. **Dataset**\n",
    ">> - The same dataset used for VGGNet\n",
    ">\n",
    "> 2. **Network architecture**\n",
    ">> - 50-layer ResNet with **bottleneck blocks**.<br>\n",
    "     Note. The initial convolution layer (i.e., conv1) is different from the one in the paper &<br>\n",
    "     the initial max-pooling layer is removed (because the size of CIFAR-10 images is too small).\n",
    ">> - ReLU activation.\n",
    ">> - Strided convolution for down-sampling instead of max-pooling layer. <br>\n",
    "     Note. Once down-sampled, a $1\\times1$ convolution/stride 2 is applied to residual for expanding the channel of the residual.\n",
    ">> - No dropout for simplicity.\n",
    ">> - Batch-normalization after every convolution.\n",
    ">>\n",
    ">>\n",
    ">> <table><tr>\n",
    ">> <td> <img src=\"https://docs.google.com/uc?export=download&id=1ZYDfpVBFBvQnVezVcJqRxwh09rUVmxwD\" alt=\"no_image\" style=\"width: 500px;\"/> </td>\n",
    ">> <td> <img src=\"https://docs.google.com/uc?export=download&id=1JNEea1G-5yOKVLmSCkiYAEJ0HXOys0CR\" alt=\"no_image\" style=\"width: 300px;\"/> </td>\n",
    ">> </tr></table>\n",
    ">>\n",
    ">> <img src=\"https://docs.google.com/uc?export=download&id=1vY0ys5KAZmMlOKk8Dcv7eAV8pZ9cawzJ\" alt=\"no_image\" style=\"width: 870px;\"/>\n",
    ">>\n",
    ">> <font size=\"0.5\"> Figures from <br> \n",
    ">> [1] https://www.codeproject.com/Articles/1248963/Deep-Learning-using-Python-plus-Keras-Chapter-Re  <br> \n",
    ">> [2] Rezende et al., *Signal Processing: Image Communication*, 2018. </font>\n",
    ">\n",
    "> 3. **Loss function**\n",
    ">> - Cross-entropy loss between outputs & ground-truths. <br>\n",
    ">\n",
    "> 4. **Training**\n",
    ">> - Default weight initialization for simplicity.\n",
    ">> - SGD optimizer with `learning rate = 1e-2`, `momentum = 0.9`, and `weight_decay = 5e-4`.\n",
    ">> - 15 epochs without learning rate scheduling.\n",
    ">\n",
    "> 5. **Evaluation metric**\n",
    ">> - Classification accuracy (i.e., the percentage of correct predictions)."
   ]
  },
  {
   "cell_type": "markdown",
   "metadata": {
    "colab_type": "text",
    "id": "j-guPbqGj9ae"
   },
   "source": [
    "### 2.1 Implement ResNet50 and train it with the CIFAR 10 dataset [4 points] "
   ]
  },
  {
   "cell_type": "code",
   "execution_count": 15,
   "metadata": {
    "colab": {
     "base_uri": "https://localhost:8080/",
     "height": 5273
    },
    "colab_type": "code",
    "executionInfo": {
     "elapsed": 1261054,
     "status": "ok",
     "timestamp": 1549957718124,
     "user": {
      "displayName": "­이중협(대학원/일반대학원 전기전자공학과)",
      "photoUrl": "",
      "userId": "06027175232332113122"
     },
     "user_tz": -540
    },
    "id": "21UwX-8Kj9af",
    "outputId": "26e6b1fc-6a61-43ed-afa7-7305fb6c5150"
   },
   "outputs": [
    {
     "name": "stdout",
     "output_type": "stream",
     "text": [
      "STEP 3: CREATE MODEL CLASS (ResNet-50)\n"
     ]
    }
   ],
   "source": [
    "print('STEP 3: CREATE MODEL CLASS (ResNet-50)')\n",
    "\n",
    "class Unit_Normal(nn.Module): # Normal Unit class for non-shortcut connection block\n",
    "    def __init__(self, in_v, out_v): # Parameters are input value and output value.\n",
    "        super(Unit_Normal, self).__init__()\n",
    "        self.normal = nn.Sequential(\n",
    "            nn.Conv2d(in_channels=out_v, out_channels=in_v, kernel_size=1, bias=False),# kernel_size=1x1 with no bias\n",
    "            nn.BatchNorm2d(num_features=in_v),\n",
    "            nn.ReLU(), # Similar as VGG16\n",
    "            \n",
    "            nn.Conv2d(in_v, in_v, kernel_size=3, padding=1, bias=False), #3x3 filters with no bias\n",
    "            nn.BatchNorm2d(in_v),\n",
    "            nn.ReLU(),\n",
    "            \n",
    "            nn.Conv2d(in_v, out_v, kernel_size=1, bias=False), #1x1\n",
    "            nn.BatchNorm2d(out_v) # All of the networks have output values which is more than 4 times input value\n",
    "        )\n",
    "        self.line = nn.Sequential() # No colvolution network. For same tensor.\n",
    "        \n",
    "    def forward(self, x):\n",
    "        # After the image passes with Normal and Line, it is finally merged into the ReLU function and passed.\n",
    "        out = nn.ReLU()(self.normal(x) + self.line(x))\n",
    "        return out\n",
    "    \n",
    "class Unit_BottleNeck(nn.Module): # Bottle Neck class for shortcut connection block.\n",
    "    def __init__(self, in_v, out_v, stride_v, dim): # Add dim parameter for matching same dimensions between layers.\n",
    "        super(Unit_BottleNeck, self).__init__()\n",
    "        self.bottleneck = nn.Sequential(\n",
    "            # The reason for multiplying the input value by the dim value is to match the dimension in the preceding layer. \n",
    "            # For example, before conv3_x, 256 dimensions are created. \n",
    "            # For conv2d layer of conv3_x layer, it shall have 256 for the conv2d layer. \n",
    "            # This process of downsampling can reduce the loss of information unlike maxpooling.\n",
    "            # Stride value should be 2 in front of the bottlenect layers.\n",
    "            nn.Conv2d(in_channels=int(in_v*dim), out_channels=in_v, stride=stride_v, kernel_size=1, bias=False),# kernel_size=1x1\n",
    "            nn.BatchNorm2d(num_features=in_v),\n",
    "            nn.ReLU(),\n",
    "            \n",
    "            nn.Conv2d(in_v, in_v, kernel_size=3, padding=1, bias=False),\n",
    "            nn.BatchNorm2d(in_v),\n",
    "            nn.ReLU(),\n",
    "            \n",
    "            nn.Conv2d(in_v, out_v, kernel_size=1, bias=False), # 1x1 kernel size.\n",
    "            nn.BatchNorm2d(out_v)\n",
    "        )\n",
    "        # BottleNeck Connection.\n",
    "        # To match the dimension with front layer's, I set the calculation with input value times dim parameter.\n",
    "        self.dot = nn.Sequential(\n",
    "            nn.Conv2d(int(in_v*dim), out_v, stride=stride_v, kernel_size=1, bias=False), # 1x1 Filter, based on paper, stride is 2\n",
    "            nn.BatchNorm2d(out_v)\n",
    "        )\n",
    "    # Similar to Unit_Normal Class\n",
    "    def forward(self, x):\n",
    "        out = nn.ReLU()(self.bottleneck(x) + self.dot(x))\n",
    "        return out\n",
    "    \n",
    "class Resnet50(nn.Module):\n",
    "    def __init__(self):\n",
    "        super(Resnet50, self).__init__()\n",
    "        # No max pooling. Only used 1x1 convolution filter with stride 2 except conv2_x.\n",
    "        self.conv1 = nn.Sequential(\n",
    "            # Set the conv1 layer with stride 1 3x3 filter by 64 dimensions.\n",
    "            nn.Conv2d(in_channels=3, out_channels=64, kernel_size=3, padding=1, bias=False),# 3x3 Filter(Kernel Size)\n",
    "            nn.BatchNorm2d(64),\n",
    "            nn.ReLU()\n",
    "        )\n",
    "        # three unit blocks.\n",
    "        self.conv2_x = nn.Sequential(\n",
    "            Unit_BottleNeck(64, 256, 1, dim=1), # Only conv2_x has 1 dim parameter because of the size (32x32 image is too small)\n",
    "            Unit_Normal(64, 256),\n",
    "            Unit_Normal(64, 256)\n",
    "        )\n",
    "        # four unit blocks\n",
    "        self.conv3_x = nn.Sequential(\n",
    "            Unit_BottleNeck(128, 512, 2, dim=2), # After the conv3_x, parameter dim has 2 for matching.\n",
    "            Unit_Normal(128, 512),\n",
    "            Unit_Normal(128, 512),\n",
    "            Unit_Normal(128, 512)\n",
    "        )\n",
    "        # six unit blocks\n",
    "        self.conv4_x = nn.Sequential(\n",
    "            Unit_BottleNeck(256, 1024, 2, dim=2),\n",
    "            Unit_Normal(256, 1024),\n",
    "            Unit_Normal(256, 1024),\n",
    "            Unit_Normal(256, 1024),\n",
    "            Unit_Normal(256, 1024),\n",
    "            Unit_Normal(256, 1024)\n",
    "        )\n",
    "        # three unit blocks\n",
    "        self.conv5_x = nn.Sequential(\n",
    "            Unit_BottleNeck(512, 2048, 2, dim=2),\n",
    "            Unit_Normal(512, 2048),\n",
    "            Unit_Normal(512, 2048)\n",
    "        )\n",
    "        # average pooling with 1x1 size\n",
    "        self.avg_pool = nn.AdaptiveAvgPool2d((1, 1))\n",
    "        # fully-connected layer with 2048 to 100.\n",
    "        self.fc = nn.Linear(512 * 4, 100)\n",
    "\n",
    "    def forward(self, x):\n",
    "        # Same structure init function.\n",
    "        out = self.conv1(x)\n",
    "        out = self.conv2_x(out)\n",
    "        out = self.conv3_x(out)\n",
    "        out = self.conv4_x(out)\n",
    "        out = self.conv5_x(out)\n",
    "        \n",
    "        out = self.avg_pool(out)\n",
    "        \n",
    "        out = out.view(out.size(0), -1)\n",
    "        out = self.fc(out)\n",
    "\n",
    "        return out"
   ]
  },
  {
   "cell_type": "code",
   "execution_count": 16,
   "metadata": {},
   "outputs": [
    {
     "name": "stdout",
     "output_type": "stream",
     "text": [
      "STEP 4: INSTANTIATE MODEL CLASS\n",
      "The number of parameters :  23705252\n"
     ]
    },
    {
     "data": {
      "text/plain": [
       "tensor([[[[-2.1964e+00, -2.3321e+00, -2.3903e+00,  ..., -1.1690e+00,\n",
       "           -1.2078e+00, -1.1109e+00],\n",
       "          [-1.8863e+00, -2.0026e+00, -2.0801e+00,  ..., -9.9458e-01,\n",
       "           -9.5581e-01, -8.7827e-01],\n",
       "          [ 1.3434e-02, -4.3242e-01, -8.7827e-01,  ..., -7.2319e-01,\n",
       "           -6.4565e-01, -5.8750e-01],\n",
       "          ...,\n",
       "          [-2.3857e-01, -3.3549e-01, -4.1303e-01,  ..., -5.8750e-01,\n",
       "           -5.2934e-01, -5.0996e-01],\n",
       "          [-1.6103e-01, -3.3549e-01, -4.5180e-01,  ..., -5.8750e-01,\n",
       "           -5.4873e-01, -5.0996e-01],\n",
       "          [-2.1919e-01, -3.5488e-01, -3.7426e-01,  ..., -5.4873e-01,\n",
       "           -5.0996e-01, -4.5180e-01]],\n",
       "\n",
       "         [[ 2.7610e-01,  2.5644e-01,  2.3677e-01,  ...,  6.6944e-01,\n",
       "            6.8911e-01,  6.8911e-01],\n",
       "          [ 2.0434e-02,  9.9101e-02,  1.7777e-01,  ...,  7.4811e-01,\n",
       "            8.0711e-01,  8.0711e-01],\n",
       "          [ 7.2844e-01,  4.5310e-01,  2.3677e-01,  ...,  7.8744e-01,\n",
       "            8.8578e-01,  8.8578e-01],\n",
       "          ...,\n",
       "          [-5.6957e-01, -6.6791e-01, -7.4657e-01,  ..., -9.8258e-01,\n",
       "           -9.2357e-01, -9.0391e-01],\n",
       "          [-4.9090e-01, -6.6791e-01, -7.8591e-01,  ..., -9.6291e-01,\n",
       "           -9.6291e-01, -9.2357e-01],\n",
       "          [-5.4990e-01, -6.8757e-01, -7.0724e-01,  ..., -9.4324e-01,\n",
       "           -9.2357e-01, -8.8424e-01]],\n",
       "\n",
       "         [[ 1.3295e+00,  1.3100e+00,  1.2709e+00,  ...,  1.4270e+00,\n",
       "            1.5441e+00,  1.5246e+00],\n",
       "          [ 8.0270e-01,  9.7829e-01,  1.0954e+00,  ...,  1.4661e+00,\n",
       "            1.5636e+00,  1.5831e+00],\n",
       "          [ 1.0954e+00,  9.0025e-01,  7.4417e-01,  ...,  1.5246e+00,\n",
       "            1.6026e+00,  1.6416e+00],\n",
       "          ...,\n",
       "          [-5.2400e-01, -6.2155e-01, -7.1910e-01,  ..., -1.0898e+00,\n",
       "           -1.0118e+00, -9.1420e-01],\n",
       "          [-4.4596e-01, -6.2155e-01, -7.3861e-01,  ..., -1.0508e+00,\n",
       "           -9.9224e-01, -8.7518e-01],\n",
       "          [-5.0449e-01, -6.4106e-01, -6.6057e-01,  ..., -9.9224e-01,\n",
       "           -9.1420e-01, -7.9714e-01]]],\n",
       "\n",
       "\n",
       "        [[[ 2.4559e+00,  2.3784e+00,  2.3396e+00,  ...,  1.1184e+00,\n",
       "            1.0602e+00,  1.0796e+00],\n",
       "          [ 2.3978e+00,  2.2427e+00,  2.2039e+00,  ...,  1.1378e+00,\n",
       "            1.0602e+00,  1.0602e+00],\n",
       "          [ 2.3202e+00,  2.2039e+00,  2.1652e+00,  ...,  1.1765e+00,\n",
       "            1.0796e+00,  1.0021e+00],\n",
       "          ...,\n",
       "          [ 2.2427e+00,  2.2233e+00,  2.2233e+00,  ...,  6.9191e-01,\n",
       "            6.3375e-01,  1.1959e+00],\n",
       "          [ 2.1845e+00,  2.2233e+00,  2.1652e+00,  ...,  8.8576e-01,\n",
       "            1.1378e+00,  1.3704e+00],\n",
       "          [ 2.2233e+00,  2.1845e+00,  2.2427e+00,  ...,  1.3122e+00,\n",
       "            1.5255e+00,  1.4285e+00]],\n",
       "\n",
       "         [[ 2.5968e+00,  2.5181e+00,  2.4985e+00,  ...,  1.1021e+00,\n",
       "            1.0628e+00,  1.0824e+00],\n",
       "          [ 2.5378e+00,  2.3805e+00,  2.3411e+00,  ...,  1.1414e+00,\n",
       "            1.0628e+00,  1.0628e+00],\n",
       "          [ 2.4591e+00,  2.3411e+00,  2.3018e+00,  ...,  1.1808e+00,\n",
       "            1.1021e+00,  1.0234e+00],\n",
       "          ...,\n",
       "          [ 1.9478e+00,  1.9478e+00,  1.9478e+00,  ...,  5.3177e-01,\n",
       "            4.5310e-01,  1.0628e+00],\n",
       "          [ 1.9085e+00,  1.9478e+00,  1.9085e+00,  ...,  7.0877e-01,\n",
       "            9.4478e-01,  1.2004e+00],\n",
       "          [ 1.9478e+00,  1.9281e+00,  1.9871e+00,  ...,  1.1218e+00,\n",
       "            1.3184e+00,  1.2398e+00]],\n",
       "\n",
       "         [[ 2.7537e+00,  2.7342e+00,  2.7147e+00,  ...,  1.6026e+00,\n",
       "            1.6026e+00,  1.6221e+00],\n",
       "          [ 2.7537e+00,  2.6367e+00,  2.5976e+00,  ...,  1.6221e+00,\n",
       "            1.5831e+00,  1.5636e+00],\n",
       "          [ 2.7537e+00,  2.6367e+00,  2.5976e+00,  ...,  1.6221e+00,\n",
       "            1.5441e+00,  1.4661e+00],\n",
       "          ...,\n",
       "          [ 2.1099e+00,  2.0514e+00,  1.9928e+00,  ...,  8.0270e-01,\n",
       "            6.8564e-01,  1.1344e+00],\n",
       "          [ 2.0319e+00,  2.0123e+00,  1.9343e+00,  ...,  9.3927e-01,\n",
       "            1.0954e+00,  1.2124e+00],\n",
       "          [ 2.0319e+00,  1.9538e+00,  1.9538e+00,  ...,  1.3100e+00,\n",
       "            1.3880e+00,  1.1734e+00]]],\n",
       "\n",
       "\n",
       "        [[[ 4.3990e-01,  5.9498e-01,  5.1744e-01,  ..., -1.6103e-01,\n",
       "            5.1744e-01, -6.4106e-02],\n",
       "          [ 6.7252e-01,  4.9806e-01,  2.8482e-01,  ...,  2.4605e-01,\n",
       "            4.9806e-01,  2.6544e-01],\n",
       "          [ 7.8883e-01,  5.1744e-01,  3.4298e-01,  ...,  2.4605e-01,\n",
       "            2.4605e-01,  3.4298e-01],\n",
       "          ...,\n",
       "          [ 4.3990e-01,  2.6544e-01,  5.1744e-01,  ...,  2.6544e-01,\n",
       "            2.4605e-01,  4.7867e-01],\n",
       "          [ 4.7867e-01,  7.1589e-02,  4.0113e-01,  ...,  4.0113e-01,\n",
       "            4.9806e-01,  4.9806e-01],\n",
       "          [ 4.5929e-01,  1.1036e-01,  2.4605e-01,  ...,  2.4605e-01,\n",
       "            2.6544e-01,  3.6236e-01]],\n",
       "\n",
       "         [[-2.3524e-01, -9.7567e-02, -1.5657e-01,  ..., -6.6791e-01,\n",
       "           -5.8233e-02, -4.9090e-01],\n",
       "          [ 7.6703e-04, -1.1723e-01, -2.5490e-01,  ..., -2.9424e-01,\n",
       "           -5.8233e-02, -2.1557e-01],\n",
       "          [ 2.1710e-01,  5.9768e-02, -5.8233e-02,  ..., -3.9257e-01,\n",
       "           -3.1390e-01, -2.7457e-01],\n",
       "          ...,\n",
       "          [ 6.1044e-01,  3.7444e-01,  6.8911e-01,  ...,  4.3344e-01,\n",
       "            4.3344e-01,  6.4977e-01],\n",
       "          [ 6.6944e-01,  1.9744e-01,  5.9077e-01,  ...,  5.5144e-01,\n",
       "            6.8911e-01,  6.3011e-01],\n",
       "          [ 6.8911e-01,  2.9577e-01,  4.1377e-01,  ...,  4.3344e-01,\n",
       "            4.3344e-01,  5.1211e-01]],\n",
       "\n",
       "         [[-5.4351e-01, -4.2645e-01, -4.4596e-01,  ..., -8.9469e-01,\n",
       "           -4.6547e-01, -6.8008e-01],\n",
       "          [-4.0694e-01, -5.2400e-01, -5.4351e-01,  ..., -5.8253e-01,\n",
       "           -3.8743e-01, -4.6547e-01],\n",
       "          [-3.0938e-01, -4.8498e-01, -4.2645e-01,  ..., -5.4351e-01,\n",
       "           -4.8498e-01, -4.6547e-01],\n",
       "          ...,\n",
       "          [ 1.0368e+00,  7.6368e-01,  1.1734e+00,  ...,  8.4172e-01,\n",
       "            8.8074e-01,  1.0954e+00],\n",
       "          [ 1.1539e+00,  5.8809e-01,  1.0954e+00,  ...,  9.7829e-01,\n",
       "            1.1539e+00,  1.0758e+00],\n",
       "          [ 1.2319e+00,  7.4417e-01,  8.8074e-01,  ...,  8.2221e-01,\n",
       "            8.8074e-01,  9.1976e-01]]],\n",
       "\n",
       "\n",
       "        ...,\n",
       "\n",
       "\n",
       "        [[[ 2.0728e-01,  2.0728e-01, -5.9512e-03,  ..., -1.8281e+00,\n",
       "           -1.7700e+00, -1.7894e+00],\n",
       "          [ 7.6945e-01,  4.9806e-01,  7.1589e-02,  ..., -1.7894e+00,\n",
       "           -1.7894e+00, -1.8087e+00],\n",
       "          [ 9.4391e-01,  7.6945e-01,  1.4913e-01,  ..., -1.6731e+00,\n",
       "           -1.7894e+00, -1.8087e+00],\n",
       "          ...,\n",
       "          [ 8.8576e-01,  8.0822e-01,  1.1184e+00,  ...,  6.7252e-01,\n",
       "            7.5006e-01,  5.1744e-01],\n",
       "          [ 9.4391e-01,  7.3068e-01,  6.3375e-01,  ...,  5.7560e-01,\n",
       "            5.9498e-01,  5.3683e-01],\n",
       "          [ 1.5061e+00,  1.3704e+00,  1.0214e+00,  ...,  5.9498e-01,\n",
       "            6.3375e-01,  6.1437e-01]],\n",
       "\n",
       "         [[ 5.3177e-01,  7.0877e-01,  5.3177e-01,  ..., -1.5922e+00,\n",
       "           -1.5136e+00, -1.5332e+00],\n",
       "          [ 6.4977e-01,  8.0711e-01,  5.1211e-01,  ..., -1.5136e+00,\n",
       "           -1.5332e+00, -1.5529e+00],\n",
       "          [ 8.2677e-01,  7.2844e-01,  4.1377e-01,  ..., -1.3759e+00,\n",
       "           -1.5136e+00, -1.5136e+00],\n",
       "          ...,\n",
       "          [ 7.4811e-01,  7.4811e-01,  1.0824e+00,  ...,  1.0824e+00,\n",
       "            1.1021e+00,  9.8411e-01],\n",
       "          [ 8.8578e-01,  6.3011e-01,  5.5144e-01,  ...,  1.0431e+00,\n",
       "            1.0038e+00,  1.0234e+00],\n",
       "          [ 1.4758e+00,  1.2004e+00,  8.8578e-01,  ...,  1.1021e+00,\n",
       "            1.1218e+00,  1.1021e+00]],\n",
       "\n",
       "         [[-4.4596e-01, -3.2889e-01, -4.2645e-01,  ..., -1.7531e+00,\n",
       "           -1.6751e+00, -1.7141e+00],\n",
       "          [ 1.5886e-01,  6.1311e-02, -4.0694e-01,  ..., -1.7141e+00,\n",
       "           -1.6946e+00, -1.7336e+00],\n",
       "          [ 1.7837e-01,  5.2956e-01, -9.4771e-02,  ..., -1.6166e+00,\n",
       "           -1.7141e+00, -1.7141e+00],\n",
       "          ...,\n",
       "          [ 3.1495e-01,  1.5886e-01,  4.7103e-01,  ..., -3.4841e-01,\n",
       "           -1.7281e-01, -3.6792e-01],\n",
       "          [ 5.6858e-01,  1.9788e-01, -3.6240e-02,  ..., -4.4596e-01,\n",
       "           -3.2889e-01, -3.8743e-01],\n",
       "          [ 9.1976e-01,  7.6368e-01,  4.7103e-01,  ..., -3.6792e-01,\n",
       "           -3.0938e-01, -3.0938e-01]]],\n",
       "\n",
       "\n",
       "        [[[-2.1919e-01, -1.9980e-01, -1.8042e-01,  ..., -1.0288e-01,\n",
       "           -1.0288e-01, -1.2226e-01],\n",
       "          [-1.4165e-01, -1.2226e-01, -1.0288e-01,  ..., -2.5336e-02,\n",
       "           -2.5336e-02, -2.5336e-02],\n",
       "          [-6.4106e-02, -4.4721e-02, -2.5336e-02,  ...,  7.1589e-02,\n",
       "            7.1589e-02,  7.1589e-02],\n",
       "          ...,\n",
       "          [-5.6811e-01, -5.8750e-01, -5.2934e-01,  ..., -8.0073e-01,\n",
       "           -7.6196e-01, -6.6504e-01],\n",
       "          [-2.3857e-01, -1.2226e-01, -1.2226e-01,  ..., -8.3950e-01,\n",
       "           -9.3643e-01, -1.1690e+00],\n",
       "          [-3.3549e-01, -3.7426e-01, -3.9365e-01,  ..., -8.3950e-01,\n",
       "           -1.4404e+00, -2.2158e+00]],\n",
       "\n",
       "         [[ 3.7444e-01,  3.9410e-01,  4.1377e-01,  ...,  4.7277e-01,\n",
       "            4.7277e-01,  4.5310e-01],\n",
       "          [ 4.3344e-01,  4.5310e-01,  4.5310e-01,  ...,  5.3177e-01,\n",
       "            5.1211e-01,  5.1211e-01],\n",
       "          [ 4.7277e-01,  5.1211e-01,  5.1211e-01,  ...,  5.7111e-01,\n",
       "            5.7111e-01,  5.5144e-01],\n",
       "          ...,\n",
       "          [-6.6791e-01, -6.8757e-01, -6.4824e-01,  ..., -9.4324e-01,\n",
       "           -9.0391e-01, -7.8591e-01],\n",
       "          [-3.1390e-01, -2.1557e-01, -2.7457e-01,  ..., -9.6291e-01,\n",
       "           -1.0219e+00, -1.2382e+00],\n",
       "          [-4.1224e-01, -4.7124e-01, -5.4990e-01,  ..., -9.2357e-01,\n",
       "           -1.4939e+00, -2.2609e+00]],\n",
       "\n",
       "         [[ 1.6221e+00,  1.6221e+00,  1.6612e+00,  ...,  1.7002e+00,\n",
       "            1.7002e+00,  1.6807e+00],\n",
       "          [ 1.6416e+00,  1.6612e+00,  1.7002e+00,  ...,  1.7002e+00,\n",
       "            1.7002e+00,  1.7002e+00],\n",
       "          [ 1.7002e+00,  1.7197e+00,  1.7392e+00,  ...,  1.7587e+00,\n",
       "            1.7392e+00,  1.7392e+00],\n",
       "          ...,\n",
       "          [-4.4596e-01, -4.4596e-01, -4.2645e-01,  ..., -7.3861e-01,\n",
       "           -6.9959e-01, -5.8253e-01],\n",
       "          [-9.4771e-02,  2.2291e-02, -3.6240e-02,  ..., -7.5812e-01,\n",
       "           -8.3616e-01, -1.0508e+00],\n",
       "          [-1.9232e-01, -2.5085e-01, -3.0938e-01,  ..., -7.3861e-01,\n",
       "           -1.3239e+00, -2.1043e+00]]],\n",
       "\n",
       "\n",
       "        [[[-1.9444e+00, -2.1383e+00, -1.9832e+00,  ..., -1.2466e+00,\n",
       "           -6.4565e-01, -9.7520e-01],\n",
       "          [-2.1964e+00, -2.0414e+00, -1.9638e+00,  ..., -1.9980e-01,\n",
       "            4.5929e-01, -4.1303e-01],\n",
       "          [-2.1964e+00, -2.1383e+00, -1.7700e+00,  ...,  5.5621e-01,\n",
       "            6.1437e-01, -1.8042e-01],\n",
       "          ...,\n",
       "          [-4.9057e-01, -4.3242e-01, -4.1303e-01,  ..., -5.4873e-01,\n",
       "           -5.2934e-01, -6.6504e-01],\n",
       "          [-4.3242e-01, -4.1303e-01, -3.5488e-01,  ..., -4.7119e-01,\n",
       "           -5.0996e-01, -6.4565e-01],\n",
       "          [-5.8750e-01, -5.8750e-01, -4.7119e-01,  ..., -6.2627e-01,\n",
       "           -5.8750e-01, -6.4565e-01]],\n",
       "\n",
       "         [[-1.6316e+00, -1.7102e+00, -1.6119e+00,  ..., -8.0557e-01,\n",
       "           -1.9590e-01, -6.6791e-01],\n",
       "          [-1.9266e+00, -1.6906e+00, -1.7102e+00,  ...,  2.1710e-01,\n",
       "            8.8578e-01, -1.1723e-01],\n",
       "          [-1.9266e+00, -1.8479e+00, -1.6316e+00,  ...,  9.6444e-01,\n",
       "            1.0234e+00,  1.1877e-01],\n",
       "          ...,\n",
       "          [ 1.1877e-01,  1.7777e-01,  2.1710e-01,  ...,  9.9101e-02,\n",
       "            5.9768e-02, -3.8567e-02],\n",
       "          [ 1.7777e-01,  1.5810e-01,  2.3677e-01,  ...,  1.7777e-01,\n",
       "            7.9434e-02, -3.8567e-02],\n",
       "          [ 5.9768e-02,  7.6703e-04,  9.9101e-02,  ...,  2.0434e-02,\n",
       "            7.6703e-04, -5.8233e-02]],\n",
       "\n",
       "         [[-1.9873e+00, -2.1629e+00, -1.8702e+00,  ..., -6.9959e-01,\n",
       "           -3.6240e-02, -4.2645e-01],\n",
       "          [-2.1043e+00, -2.0848e+00, -1.9287e+00,  ...,  4.7103e-01,\n",
       "            1.2319e+00,  3.3446e-01],\n",
       "          [-2.0068e+00, -2.1043e+00, -1.7531e+00,  ...,  1.3295e+00,\n",
       "            1.5246e+00,  7.2466e-01],\n",
       "          ...,\n",
       "          [-6.4106e-01, -5.8253e-01, -5.4351e-01,  ..., -5.8253e-01,\n",
       "           -5.8253e-01, -6.8008e-01],\n",
       "          [-6.0204e-01, -6.0204e-01, -5.2400e-01,  ..., -5.2400e-01,\n",
       "           -5.8253e-01, -6.8008e-01],\n",
       "          [-6.9959e-01, -7.3861e-01, -6.4106e-01,  ..., -6.6057e-01,\n",
       "           -6.4106e-01, -6.6057e-01]]]], device='cuda:0')"
      ]
     },
     "execution_count": 16,
     "metadata": {},
     "output_type": "execute_result"
    }
   ],
   "source": [
    "print('STEP 4: INSTANTIATE MODEL CLASS')\n",
    "\n",
    "model = Resnet50()\n",
    "num_total_params = sum(p.numel() for p in model.parameters())\n",
    "print(\"The number of parameters : \", num_total_params)\n",
    "#######################\n",
    "#  USE GPU FOR MODEL  #\n",
    "#######################\n",
    "device = torch.device(\"cuda:0\" if torch.cuda.is_available() else \"cpu\")\n",
    "model.to(device)\n",
    "images.to(device)"
   ]
  },
  {
   "cell_type": "markdown",
   "metadata": {
    "colab_type": "text",
    "id": "PTFU8J5Uj9aj"
   },
   "source": [
    "### 2.2 Print test accuracy for every epochs. [1 points]"
   ]
  },
  {
   "cell_type": "code",
   "execution_count": 17,
   "metadata": {
    "colab": {
     "base_uri": "https://localhost:8080/",
     "height": 341
    },
    "colab_type": "code",
    "executionInfo": {
     "elapsed": 3331664,
     "status": "ok",
     "timestamp": 1549959788744,
     "user": {
      "displayName": "­이중협(대학원/일반대학원 전기전자공학과)",
      "photoUrl": "",
      "userId": "06027175232332113122"
     },
     "user_tz": -540
    },
    "id": "ydsAXR-qj9ak",
    "outputId": "f60bbc8f-dfdb-4481-8e48-38a67d7ddffc"
   },
   "outputs": [
    {
     "name": "stdout",
     "output_type": "stream",
     "text": [
      "STEP 5: INSTANTIATE LOSS CLASS\n"
     ]
    }
   ],
   "source": [
    "print('STEP 5: INSTANTIATE LOSS CLASS')\n",
    "\n",
    "criterion = nn.CrossEntropyLoss()"
   ]
  },
  {
   "cell_type": "code",
   "execution_count": 18,
   "metadata": {},
   "outputs": [
    {
     "name": "stdout",
     "output_type": "stream",
     "text": [
      "STEP 6: INSTANTIATE OPTIMIZER CLASS\n"
     ]
    }
   ],
   "source": [
    "print('STEP 6: INSTANTIATE OPTIMIZER CLASS')\n",
    "\n",
    "learning_rate = 1e-2\n",
    "momentum = 0.9\n",
    "weight_decay = 5e-4\n",
    "\n",
    "optimizer = torch.optim.SGD(model.parameters(), lr=learning_rate, momentum = momentum, weight_decay = weight_decay)"
   ]
  },
  {
   "cell_type": "code",
   "execution_count": 19,
   "metadata": {},
   "outputs": [
    {
     "name": "stdout",
     "output_type": "stream",
     "text": [
      "STEP 7: TRAIN THE MODEL\n",
      "Epoch: 0. Loss: 0.5044456124305725. Accuracy: 71.13333333333334. Elapsed Time: 112.27942514419556 sec\n",
      "Epoch: 1. Loss: 0.4014207422733307. Accuracy: 77.6. Elapsed Time: 111.43979954719543 sec\n",
      "Epoch: 2. Loss: 0.9349769949913025. Accuracy: 76.36666666666666. Elapsed Time: 112.00061273574829 sec\n",
      "Epoch: 3. Loss: 0.7840763926506042. Accuracy: 81.56666666666666. Elapsed Time: 109.99552702903748 sec\n",
      "Epoch: 4. Loss: 0.6339263319969177. Accuracy: 80.56666666666666. Elapsed Time: 109.96531772613525 sec\n",
      "Epoch: 5. Loss: 0.5485923886299133. Accuracy: 79.2. Elapsed Time: 109.9623486995697 sec\n",
      "Epoch: 6. Loss: 0.7427573800086975. Accuracy: 81.63333333333334. Elapsed Time: 110.00558686256409 sec\n",
      "Epoch: 7. Loss: 0.2623394727706909. Accuracy: 82.2. Elapsed Time: 110.02319359779358 sec\n",
      "Epoch: 8. Loss: 0.34514057636260986. Accuracy: 83.2. Elapsed Time: 110.04423379898071 sec\n",
      "Epoch: 9. Loss: 0.14959801733493805. Accuracy: 82.4. Elapsed Time: 110.00772500038147 sec\n",
      "Epoch: 10. Loss: 0.17256629467010498. Accuracy: 84.23333333333333. Elapsed Time: 110.03193163871765 sec\n",
      "Epoch: 11. Loss: 0.40701672434806824. Accuracy: 82.8. Elapsed Time: 110.04155611991882 sec\n",
      "Epoch: 12. Loss: 0.07476039975881577. Accuracy: 85.43333333333334. Elapsed Time: 110.04700708389282 sec\n",
      "Epoch: 13. Loss: 0.030705660581588745. Accuracy: 84.96666666666667. Elapsed Time: 110.0296425819397 sec\n",
      "Epoch: 14. Loss: 0.028809458017349243. Accuracy: 86.13333333333334. Elapsed Time: 110.03365683555603 sec\n"
     ]
    }
   ],
   "source": [
    "print('STEP 7: TRAIN THE MODEL')\n",
    "\n",
    "# Same parameter, same structure, same code except a number of epoches (15)\n",
    "# I will skip the annotation because it overlaps.\n",
    "num_epochs = 15\n",
    "iter = 0\n",
    "currection = 0\n",
    "for epoch in range(num_epochs):\n",
    "    start = time.time()\n",
    "    for i, (images, labels) in enumerate(train_loader):\n",
    "        images = images.to(device)\n",
    "        labels = labels.to(device)\n",
    "        optimizer.zero_grad()\n",
    "        outputs = model(images)\n",
    "        loss = criterion(outputs, labels)\n",
    "        loss.backward()\n",
    "        optimizer.step()  \n",
    "        correct = 0\n",
    "        total = 0\n",
    "        for images, labels in test_loader:\n",
    "            images = images.to(device)\n",
    "            labels = labels.to(device)\n",
    "            outputs = model(images)\n",
    "            _, predicted = torch.max(outputs.data, 1)\n",
    "            total += labels.size(0)\n",
    "            if torch.cuda.is_available():\n",
    "                correct += (predicted.cpu() == labels.cpu()).sum()\n",
    "            else:\n",
    "                correct += (predicted == labels).sum()    \n",
    "    accuracy = 100 * correct.item() / total\n",
    "    end = time.time()\n",
    "    print('Epoch: {}. Loss: {}. Accuracy: {}. Elapsed Time: {} sec'.format(epoch, loss.item(), accuracy, end-start))"
   ]
  },
  {
   "cell_type": "markdown",
   "metadata": {},
   "source": [
    "# Q. Report and discuss your results. Analyze the algorithm, theoretically and empirically.\n",
    "* In this experiment, I implement and wrote VGG16 and Resnet50 directly. VGG16 consists largely of five convolutional layers, with 13 convolutional layers and Batch Normalization Function and ReLU Function following them. I wrote in the form of deliberately unfolding all layers to implement VGG 16. Through this, code was written with a more intuitive understanding. I think it was a great approach except for the disadvantage that most numbers are similar and confusing, which makes debugging too difficult. The result of VGG16 I made was 92.8% accuracy.\n",
    "* In VGG networks, there is something to be careful about. Most activation functions have nonlinearities near zero. Thus, after batch normalization allows the data to be well distributed near zero, the method of applying nonlinearity is mainly used. In addition, if the values of location containing a lot of important information at the beginning of the learning take a negative value and pass through the ReLU and change to zero, gradient is zero and there is a possibility of delayed or unstable learning. Therefore, it is common for Batch Normalization functions to be used before ReLU.\n",
    "* The second experiment is Resnet50 implementation. For Resnet50, it was too difficult to do 50 layers exactly like the way VGG16 was implemented. So, nn.Sequential() made simplified my code with readability, and based on the fact that Resnet50 has a common unit, it wanted to create two classes for the unit and implement them easily. The result was 86.13% accuracy as shown in the terminal.\n",
    "* The phenomenal part of Resnet50 is that it does not stagnate in accuracy even though a considerable number of layers have been built. Although it is true that the accuracy is lower than that of VGG16, it can be meaningful to devise a shortcut method to create a network that learns more information without loss.\n",
    "* The detailed description of the code I wrote is indicated by the code annotation."
   ]
  }
 ],
 "metadata": {
  "accelerator": "GPU",
  "colab": {
   "collapsed_sections": [],
   "name": "EEE4423_lab3-vgg_resnet(reduced)_solution.ipynb",
   "provenance": [],
   "version": "0.3.2"
  },
  "kernelspec": {
   "display_name": "Python 3 (ipykernel)",
   "language": "python",
   "name": "python3"
  },
  "language_info": {
   "codemirror_mode": {
    "name": "ipython",
    "version": 3
   },
   "file_extension": ".py",
   "mimetype": "text/x-python",
   "name": "python",
   "nbconvert_exporter": "python",
   "pygments_lexer": "ipython3",
   "version": "3.8.12"
  }
 },
 "nbformat": 4,
 "nbformat_minor": 4
}
